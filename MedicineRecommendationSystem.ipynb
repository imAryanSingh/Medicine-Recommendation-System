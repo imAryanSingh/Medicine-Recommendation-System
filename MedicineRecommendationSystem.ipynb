{
  "nbformat": 4,
  "nbformat_minor": 0,
  "metadata": {
    "colab": {
      "provenance": [],
      "toc_visible": true,
      "authorship_tag": "ABX9TyPsm/lPf+MKM7+zhY+Xk0Pa",
      "include_colab_link": true
    },
    "kernelspec": {
      "name": "python3",
      "display_name": "Python 3"
    },
    "language_info": {
      "name": "python"
    }
  },
  "cells": [
    {
      "cell_type": "markdown",
      "metadata": {
        "id": "view-in-github",
        "colab_type": "text"
      },
      "source": [
        "<a href=\"https://colab.research.google.com/github/imAryanSingh/Medicine-Recommendation-System/blob/main/MedicineRecommendationSystem.ipynb\" target=\"_parent\"><img src=\"https://colab.research.google.com/assets/colab-badge.svg\" alt=\"Open In Colab\"/></a>"
      ]
    },
    {
      "cell_type": "code",
      "source": [
        "#Importing Useful Packages\n",
        "import numpy as np\n",
        "import pandas as pd\n",
        "import nltk\n",
        "from nltk.stem.porter import PorterStemmer as ps\n",
        "from sklearn.feature_extraction.text import CountVectorizer\n",
        "import pickle as pkl\n",
        "from sklearn.metrics.pairwise import cosine_similarity as cs"
      ],
      "metadata": {
        "id": "cJrBXSanoQ2S"
      },
      "execution_count": 331,
      "outputs": []
    },
    {
      "cell_type": "code",
      "source": [
        "#Importing Data Set\n",
        "dataset = pd.read_csv('/content/sample_data/MedicineRecmdProj/medicine.csv')\n",
        "print(dataset)"
      ],
      "metadata": {
        "colab": {
          "base_uri": "https://localhost:8080/"
        },
        "id": "BXPo2ZNKpnDA",
        "outputId": "6fa1c2b6-a035-4a50-b79c-26a6fe0b51d1"
      },
      "execution_count": 332,
      "outputs": [
        {
          "output_type": "stream",
          "name": "stdout",
          "text": [
            "      index                                          Drug_Name Reason  \\\n",
            "0         1               A CN Gel(Topical) 20gmA CN Soap 75gm   Acne   \n",
            "1         2  A Ret 0.05% Gel 20gmA Ret 0.1% Gel 20gmA Ret 0...   Acne   \n",
            "2         3                             ACGEL CL NANO Gel 15gm   Acne   \n",
            "3         4                                ACGEL NANO Gel 15gm   Acne   \n",
            "4         5                              Acleen 1% Lotion 25ml   Acne   \n",
            "...     ...                                                ...    ...   \n",
            "9715   9716                                T Muce Ointment 5gm  Wound   \n",
            "9716   9717  Wokadine 10% Solution 100mlWokadine Solution 5...  Wound   \n",
            "9717   9718                               Wokadine M Onit 10gm  Wound   \n",
            "9718   9719                           Wound Fix Solution 100ml  Wound   \n",
            "9719   9720                              Wounsol Ointment 15gm  Wound   \n",
            "\n",
            "                                            Description  \n",
            "0                         Mild to moderate acne (spots)  \n",
            "1     A RET 0.025% is a prescription medicine that i...  \n",
            "2     It is used to treat acne vulgaris in people 12...  \n",
            "3     It is used to treat acne vulgaris in people 12...  \n",
            "4     treat the most severe form of acne (nodular ac...  \n",
            "...                                                 ...  \n",
            "9715                            used for treating warts  \n",
            "9716                      used to soften the skin cells  \n",
            "9717                                     used for scars  \n",
            "9718                                    used for wounds  \n",
            "9719  used to treat and remove raised warts (usually...  \n",
            "\n",
            "[9720 rows x 4 columns]\n"
          ]
        }
      ]
    },
    {
      "cell_type": "code",
      "source": [
        "#The brief information about dataset is Given Below\n",
        "dataset.info()"
      ],
      "metadata": {
        "colab": {
          "base_uri": "https://localhost:8080/"
        },
        "id": "vPM5pw7tr4aG",
        "outputId": "4f650029-1e9d-4b0e-f65f-a9004e6dc430"
      },
      "execution_count": 333,
      "outputs": [
        {
          "output_type": "stream",
          "name": "stdout",
          "text": [
            "<class 'pandas.core.frame.DataFrame'>\n",
            "RangeIndex: 9720 entries, 0 to 9719\n",
            "Data columns (total 4 columns):\n",
            " #   Column       Non-Null Count  Dtype \n",
            "---  ------       --------------  ----- \n",
            " 0   index        9720 non-null   int64 \n",
            " 1   Drug_Name    9720 non-null   object\n",
            " 2   Reason       9720 non-null   object\n",
            " 3   Description  9720 non-null   object\n",
            "dtypes: int64(1), object(3)\n",
            "memory usage: 303.9+ KB\n"
          ]
        }
      ]
    },
    {
      "cell_type": "code",
      "source": [
        "#View the first few rows of the dataset\n",
        "dataset.head()\n",
        "#ClicK On \"SUGGESTED CHARTS\" It Show More Visual Information"
      ],
      "metadata": {
        "colab": {
          "base_uri": "https://localhost:8080/",
          "height": 206
        },
        "id": "lh7fgEbKrjsX",
        "outputId": "383f5fff-9179-4a40-bb04-294317959549"
      },
      "execution_count": 334,
      "outputs": [
        {
          "output_type": "execute_result",
          "data": {
            "text/plain": [
              "   index                                          Drug_Name Reason  \\\n",
              "0      1               A CN Gel(Topical) 20gmA CN Soap 75gm   Acne   \n",
              "1      2  A Ret 0.05% Gel 20gmA Ret 0.1% Gel 20gmA Ret 0...   Acne   \n",
              "2      3                             ACGEL CL NANO Gel 15gm   Acne   \n",
              "3      4                                ACGEL NANO Gel 15gm   Acne   \n",
              "4      5                              Acleen 1% Lotion 25ml   Acne   \n",
              "\n",
              "                                         Description  \n",
              "0                      Mild to moderate acne (spots)  \n",
              "1  A RET 0.025% is a prescription medicine that i...  \n",
              "2  It is used to treat acne vulgaris in people 12...  \n",
              "3  It is used to treat acne vulgaris in people 12...  \n",
              "4  treat the most severe form of acne (nodular ac...  "
            ],
            "text/html": [
              "\n",
              "  <div id=\"df-b27715f0-7438-494c-ac1b-8227df831806\" class=\"colab-df-container\">\n",
              "    <div>\n",
              "<style scoped>\n",
              "    .dataframe tbody tr th:only-of-type {\n",
              "        vertical-align: middle;\n",
              "    }\n",
              "\n",
              "    .dataframe tbody tr th {\n",
              "        vertical-align: top;\n",
              "    }\n",
              "\n",
              "    .dataframe thead th {\n",
              "        text-align: right;\n",
              "    }\n",
              "</style>\n",
              "<table border=\"1\" class=\"dataframe\">\n",
              "  <thead>\n",
              "    <tr style=\"text-align: right;\">\n",
              "      <th></th>\n",
              "      <th>index</th>\n",
              "      <th>Drug_Name</th>\n",
              "      <th>Reason</th>\n",
              "      <th>Description</th>\n",
              "    </tr>\n",
              "  </thead>\n",
              "  <tbody>\n",
              "    <tr>\n",
              "      <th>0</th>\n",
              "      <td>1</td>\n",
              "      <td>A CN Gel(Topical) 20gmA CN Soap 75gm</td>\n",
              "      <td>Acne</td>\n",
              "      <td>Mild to moderate acne (spots)</td>\n",
              "    </tr>\n",
              "    <tr>\n",
              "      <th>1</th>\n",
              "      <td>2</td>\n",
              "      <td>A Ret 0.05% Gel 20gmA Ret 0.1% Gel 20gmA Ret 0...</td>\n",
              "      <td>Acne</td>\n",
              "      <td>A RET 0.025% is a prescription medicine that i...</td>\n",
              "    </tr>\n",
              "    <tr>\n",
              "      <th>2</th>\n",
              "      <td>3</td>\n",
              "      <td>ACGEL CL NANO Gel 15gm</td>\n",
              "      <td>Acne</td>\n",
              "      <td>It is used to treat acne vulgaris in people 12...</td>\n",
              "    </tr>\n",
              "    <tr>\n",
              "      <th>3</th>\n",
              "      <td>4</td>\n",
              "      <td>ACGEL NANO Gel 15gm</td>\n",
              "      <td>Acne</td>\n",
              "      <td>It is used to treat acne vulgaris in people 12...</td>\n",
              "    </tr>\n",
              "    <tr>\n",
              "      <th>4</th>\n",
              "      <td>5</td>\n",
              "      <td>Acleen 1% Lotion 25ml</td>\n",
              "      <td>Acne</td>\n",
              "      <td>treat the most severe form of acne (nodular ac...</td>\n",
              "    </tr>\n",
              "  </tbody>\n",
              "</table>\n",
              "</div>\n",
              "    <div class=\"colab-df-buttons\">\n",
              "\n",
              "  <div class=\"colab-df-container\">\n",
              "    <button class=\"colab-df-convert\" onclick=\"convertToInteractive('df-b27715f0-7438-494c-ac1b-8227df831806')\"\n",
              "            title=\"Convert this dataframe to an interactive table.\"\n",
              "            style=\"display:none;\">\n",
              "\n",
              "  <svg xmlns=\"http://www.w3.org/2000/svg\" height=\"24px\" viewBox=\"0 -960 960 960\">\n",
              "    <path d=\"M120-120v-720h720v720H120Zm60-500h600v-160H180v160Zm220 220h160v-160H400v160Zm0 220h160v-160H400v160ZM180-400h160v-160H180v160Zm440 0h160v-160H620v160ZM180-180h160v-160H180v160Zm440 0h160v-160H620v160Z\"/>\n",
              "  </svg>\n",
              "    </button>\n",
              "\n",
              "  <style>\n",
              "    .colab-df-container {\n",
              "      display:flex;\n",
              "      gap: 12px;\n",
              "    }\n",
              "\n",
              "    .colab-df-convert {\n",
              "      background-color: #E8F0FE;\n",
              "      border: none;\n",
              "      border-radius: 50%;\n",
              "      cursor: pointer;\n",
              "      display: none;\n",
              "      fill: #1967D2;\n",
              "      height: 32px;\n",
              "      padding: 0 0 0 0;\n",
              "      width: 32px;\n",
              "    }\n",
              "\n",
              "    .colab-df-convert:hover {\n",
              "      background-color: #E2EBFA;\n",
              "      box-shadow: 0px 1px 2px rgba(60, 64, 67, 0.3), 0px 1px 3px 1px rgba(60, 64, 67, 0.15);\n",
              "      fill: #174EA6;\n",
              "    }\n",
              "\n",
              "    .colab-df-buttons div {\n",
              "      margin-bottom: 4px;\n",
              "    }\n",
              "\n",
              "    [theme=dark] .colab-df-convert {\n",
              "      background-color: #3B4455;\n",
              "      fill: #D2E3FC;\n",
              "    }\n",
              "\n",
              "    [theme=dark] .colab-df-convert:hover {\n",
              "      background-color: #434B5C;\n",
              "      box-shadow: 0px 1px 3px 1px rgba(0, 0, 0, 0.15);\n",
              "      filter: drop-shadow(0px 1px 2px rgba(0, 0, 0, 0.3));\n",
              "      fill: #FFFFFF;\n",
              "    }\n",
              "  </style>\n",
              "\n",
              "    <script>\n",
              "      const buttonEl =\n",
              "        document.querySelector('#df-b27715f0-7438-494c-ac1b-8227df831806 button.colab-df-convert');\n",
              "      buttonEl.style.display =\n",
              "        google.colab.kernel.accessAllowed ? 'block' : 'none';\n",
              "\n",
              "      async function convertToInteractive(key) {\n",
              "        const element = document.querySelector('#df-b27715f0-7438-494c-ac1b-8227df831806');\n",
              "        const dataTable =\n",
              "          await google.colab.kernel.invokeFunction('convertToInteractive',\n",
              "                                                    [key], {});\n",
              "        if (!dataTable) return;\n",
              "\n",
              "        const docLinkHtml = 'Like what you see? Visit the ' +\n",
              "          '<a target=\"_blank\" href=https://colab.research.google.com/notebooks/data_table.ipynb>data table notebook</a>'\n",
              "          + ' to learn more about interactive tables.';\n",
              "        element.innerHTML = '';\n",
              "        dataTable['output_type'] = 'display_data';\n",
              "        await google.colab.output.renderOutput(dataTable, element);\n",
              "        const docLink = document.createElement('div');\n",
              "        docLink.innerHTML = docLinkHtml;\n",
              "        element.appendChild(docLink);\n",
              "      }\n",
              "    </script>\n",
              "  </div>\n",
              "\n",
              "\n",
              "<div id=\"df-80af206b-39ff-43a6-8cd3-67e977d85ea0\">\n",
              "  <button class=\"colab-df-quickchart\" onclick=\"quickchart('df-80af206b-39ff-43a6-8cd3-67e977d85ea0')\"\n",
              "            title=\"Suggest charts\"\n",
              "            style=\"display:none;\">\n",
              "\n",
              "<svg xmlns=\"http://www.w3.org/2000/svg\" height=\"24px\"viewBox=\"0 0 24 24\"\n",
              "     width=\"24px\">\n",
              "    <g>\n",
              "        <path d=\"M19 3H5c-1.1 0-2 .9-2 2v14c0 1.1.9 2 2 2h14c1.1 0 2-.9 2-2V5c0-1.1-.9-2-2-2zM9 17H7v-7h2v7zm4 0h-2V7h2v10zm4 0h-2v-4h2v4z\"/>\n",
              "    </g>\n",
              "</svg>\n",
              "  </button>\n",
              "\n",
              "<style>\n",
              "  .colab-df-quickchart {\n",
              "      --bg-color: #E8F0FE;\n",
              "      --fill-color: #1967D2;\n",
              "      --hover-bg-color: #E2EBFA;\n",
              "      --hover-fill-color: #174EA6;\n",
              "      --disabled-fill-color: #AAA;\n",
              "      --disabled-bg-color: #DDD;\n",
              "  }\n",
              "\n",
              "  [theme=dark] .colab-df-quickchart {\n",
              "      --bg-color: #3B4455;\n",
              "      --fill-color: #D2E3FC;\n",
              "      --hover-bg-color: #434B5C;\n",
              "      --hover-fill-color: #FFFFFF;\n",
              "      --disabled-bg-color: #3B4455;\n",
              "      --disabled-fill-color: #666;\n",
              "  }\n",
              "\n",
              "  .colab-df-quickchart {\n",
              "    background-color: var(--bg-color);\n",
              "    border: none;\n",
              "    border-radius: 50%;\n",
              "    cursor: pointer;\n",
              "    display: none;\n",
              "    fill: var(--fill-color);\n",
              "    height: 32px;\n",
              "    padding: 0;\n",
              "    width: 32px;\n",
              "  }\n",
              "\n",
              "  .colab-df-quickchart:hover {\n",
              "    background-color: var(--hover-bg-color);\n",
              "    box-shadow: 0 1px 2px rgba(60, 64, 67, 0.3), 0 1px 3px 1px rgba(60, 64, 67, 0.15);\n",
              "    fill: var(--button-hover-fill-color);\n",
              "  }\n",
              "\n",
              "  .colab-df-quickchart-complete:disabled,\n",
              "  .colab-df-quickchart-complete:disabled:hover {\n",
              "    background-color: var(--disabled-bg-color);\n",
              "    fill: var(--disabled-fill-color);\n",
              "    box-shadow: none;\n",
              "  }\n",
              "\n",
              "  .colab-df-spinner {\n",
              "    border: 2px solid var(--fill-color);\n",
              "    border-color: transparent;\n",
              "    border-bottom-color: var(--fill-color);\n",
              "    animation:\n",
              "      spin 1s steps(1) infinite;\n",
              "  }\n",
              "\n",
              "  @keyframes spin {\n",
              "    0% {\n",
              "      border-color: transparent;\n",
              "      border-bottom-color: var(--fill-color);\n",
              "      border-left-color: var(--fill-color);\n",
              "    }\n",
              "    20% {\n",
              "      border-color: transparent;\n",
              "      border-left-color: var(--fill-color);\n",
              "      border-top-color: var(--fill-color);\n",
              "    }\n",
              "    30% {\n",
              "      border-color: transparent;\n",
              "      border-left-color: var(--fill-color);\n",
              "      border-top-color: var(--fill-color);\n",
              "      border-right-color: var(--fill-color);\n",
              "    }\n",
              "    40% {\n",
              "      border-color: transparent;\n",
              "      border-right-color: var(--fill-color);\n",
              "      border-top-color: var(--fill-color);\n",
              "    }\n",
              "    60% {\n",
              "      border-color: transparent;\n",
              "      border-right-color: var(--fill-color);\n",
              "    }\n",
              "    80% {\n",
              "      border-color: transparent;\n",
              "      border-right-color: var(--fill-color);\n",
              "      border-bottom-color: var(--fill-color);\n",
              "    }\n",
              "    90% {\n",
              "      border-color: transparent;\n",
              "      border-bottom-color: var(--fill-color);\n",
              "    }\n",
              "  }\n",
              "</style>\n",
              "\n",
              "  <script>\n",
              "    async function quickchart(key) {\n",
              "      const quickchartButtonEl =\n",
              "        document.querySelector('#' + key + ' button');\n",
              "      quickchartButtonEl.disabled = true;  // To prevent multiple clicks.\n",
              "      quickchartButtonEl.classList.add('colab-df-spinner');\n",
              "      try {\n",
              "        const charts = await google.colab.kernel.invokeFunction(\n",
              "            'suggestCharts', [key], {});\n",
              "      } catch (error) {\n",
              "        console.error('Error during call to suggestCharts:', error);\n",
              "      }\n",
              "      quickchartButtonEl.classList.remove('colab-df-spinner');\n",
              "      quickchartButtonEl.classList.add('colab-df-quickchart-complete');\n",
              "    }\n",
              "    (() => {\n",
              "      let quickchartButtonEl =\n",
              "        document.querySelector('#df-80af206b-39ff-43a6-8cd3-67e977d85ea0 button');\n",
              "      quickchartButtonEl.style.display =\n",
              "        google.colab.kernel.accessAllowed ? 'block' : 'none';\n",
              "    })();\n",
              "  </script>\n",
              "</div>\n",
              "\n",
              "    </div>\n",
              "  </div>\n"
            ]
          },
          "metadata": {},
          "execution_count": 334
        }
      ]
    },
    {
      "cell_type": "code",
      "source": [
        "#There are Total 50 (0 to 9720) Entries,8 (0 to 4) Columns.\n",
        "dataset.shape"
      ],
      "metadata": {
        "colab": {
          "base_uri": "https://localhost:8080/"
        },
        "id": "a8FmgmmAsLF9",
        "outputId": "8e14a03e-2fa0-488b-a200-6de1280f9390"
      },
      "execution_count": 335,
      "outputs": [
        {
          "output_type": "execute_result",
          "data": {
            "text/plain": [
              "(9720, 4)"
            ]
          },
          "metadata": {},
          "execution_count": 335
        }
      ]
    },
    {
      "cell_type": "code",
      "source": [
        "#There are Total 38880 Elements\n",
        "dataset.size"
      ],
      "metadata": {
        "colab": {
          "base_uri": "https://localhost:8080/"
        },
        "id": "B8Ad8NWysQsz",
        "outputId": "7c8a4f16-d5bd-4fcb-d7af-3fa51add9d76"
      },
      "execution_count": 336,
      "outputs": [
        {
          "output_type": "execute_result",
          "data": {
            "text/plain": [
              "38880"
            ]
          },
          "metadata": {},
          "execution_count": 336
        }
      ]
    },
    {
      "cell_type": "code",
      "source": [
        "#Total Unique Values in every column are Shown here\n",
        "dataset.nunique()"
      ],
      "metadata": {
        "colab": {
          "base_uri": "https://localhost:8080/"
        },
        "id": "HK1n4h1ostoA",
        "outputId": "17186732-4540-4e7b-b46f-4dbf36ed5353"
      },
      "execution_count": 337,
      "outputs": [
        {
          "output_type": "execute_result",
          "data": {
            "text/plain": [
              "index          9720\n",
              "Drug_Name      9626\n",
              "Reason           50\n",
              "Description     290\n",
              "dtype: int64"
            ]
          },
          "metadata": {},
          "execution_count": 337
        }
      ]
    },
    {
      "cell_type": "code",
      "source": [
        "#Basic Description About Dataset like count,mean,min,max,etc.\n",
        "dataset.describe()\n",
        "#ClicK On \"SUGGESTED CHARTS\" It Show More Visual Information"
      ],
      "metadata": {
        "colab": {
          "base_uri": "https://localhost:8080/",
          "height": 300
        },
        "id": "4aMutxmZtucT",
        "outputId": "4cc93d8a-db27-446a-f163-ac8ae75ab666"
      },
      "execution_count": 338,
      "outputs": [
        {
          "output_type": "execute_result",
          "data": {
            "text/plain": [
              "             index\n",
              "count  9720.000000\n",
              "mean   4860.500000\n",
              "std    2806.066642\n",
              "min       1.000000\n",
              "25%    2430.750000\n",
              "50%    4860.500000\n",
              "75%    7290.250000\n",
              "max    9720.000000"
            ],
            "text/html": [
              "\n",
              "  <div id=\"df-d0557095-6c6c-43b7-a3a0-3e71f3e1c53f\" class=\"colab-df-container\">\n",
              "    <div>\n",
              "<style scoped>\n",
              "    .dataframe tbody tr th:only-of-type {\n",
              "        vertical-align: middle;\n",
              "    }\n",
              "\n",
              "    .dataframe tbody tr th {\n",
              "        vertical-align: top;\n",
              "    }\n",
              "\n",
              "    .dataframe thead th {\n",
              "        text-align: right;\n",
              "    }\n",
              "</style>\n",
              "<table border=\"1\" class=\"dataframe\">\n",
              "  <thead>\n",
              "    <tr style=\"text-align: right;\">\n",
              "      <th></th>\n",
              "      <th>index</th>\n",
              "    </tr>\n",
              "  </thead>\n",
              "  <tbody>\n",
              "    <tr>\n",
              "      <th>count</th>\n",
              "      <td>9720.000000</td>\n",
              "    </tr>\n",
              "    <tr>\n",
              "      <th>mean</th>\n",
              "      <td>4860.500000</td>\n",
              "    </tr>\n",
              "    <tr>\n",
              "      <th>std</th>\n",
              "      <td>2806.066642</td>\n",
              "    </tr>\n",
              "    <tr>\n",
              "      <th>min</th>\n",
              "      <td>1.000000</td>\n",
              "    </tr>\n",
              "    <tr>\n",
              "      <th>25%</th>\n",
              "      <td>2430.750000</td>\n",
              "    </tr>\n",
              "    <tr>\n",
              "      <th>50%</th>\n",
              "      <td>4860.500000</td>\n",
              "    </tr>\n",
              "    <tr>\n",
              "      <th>75%</th>\n",
              "      <td>7290.250000</td>\n",
              "    </tr>\n",
              "    <tr>\n",
              "      <th>max</th>\n",
              "      <td>9720.000000</td>\n",
              "    </tr>\n",
              "  </tbody>\n",
              "</table>\n",
              "</div>\n",
              "    <div class=\"colab-df-buttons\">\n",
              "\n",
              "  <div class=\"colab-df-container\">\n",
              "    <button class=\"colab-df-convert\" onclick=\"convertToInteractive('df-d0557095-6c6c-43b7-a3a0-3e71f3e1c53f')\"\n",
              "            title=\"Convert this dataframe to an interactive table.\"\n",
              "            style=\"display:none;\">\n",
              "\n",
              "  <svg xmlns=\"http://www.w3.org/2000/svg\" height=\"24px\" viewBox=\"0 -960 960 960\">\n",
              "    <path d=\"M120-120v-720h720v720H120Zm60-500h600v-160H180v160Zm220 220h160v-160H400v160Zm0 220h160v-160H400v160ZM180-400h160v-160H180v160Zm440 0h160v-160H620v160ZM180-180h160v-160H180v160Zm440 0h160v-160H620v160Z\"/>\n",
              "  </svg>\n",
              "    </button>\n",
              "\n",
              "  <style>\n",
              "    .colab-df-container {\n",
              "      display:flex;\n",
              "      gap: 12px;\n",
              "    }\n",
              "\n",
              "    .colab-df-convert {\n",
              "      background-color: #E8F0FE;\n",
              "      border: none;\n",
              "      border-radius: 50%;\n",
              "      cursor: pointer;\n",
              "      display: none;\n",
              "      fill: #1967D2;\n",
              "      height: 32px;\n",
              "      padding: 0 0 0 0;\n",
              "      width: 32px;\n",
              "    }\n",
              "\n",
              "    .colab-df-convert:hover {\n",
              "      background-color: #E2EBFA;\n",
              "      box-shadow: 0px 1px 2px rgba(60, 64, 67, 0.3), 0px 1px 3px 1px rgba(60, 64, 67, 0.15);\n",
              "      fill: #174EA6;\n",
              "    }\n",
              "\n",
              "    .colab-df-buttons div {\n",
              "      margin-bottom: 4px;\n",
              "    }\n",
              "\n",
              "    [theme=dark] .colab-df-convert {\n",
              "      background-color: #3B4455;\n",
              "      fill: #D2E3FC;\n",
              "    }\n",
              "\n",
              "    [theme=dark] .colab-df-convert:hover {\n",
              "      background-color: #434B5C;\n",
              "      box-shadow: 0px 1px 3px 1px rgba(0, 0, 0, 0.15);\n",
              "      filter: drop-shadow(0px 1px 2px rgba(0, 0, 0, 0.3));\n",
              "      fill: #FFFFFF;\n",
              "    }\n",
              "  </style>\n",
              "\n",
              "    <script>\n",
              "      const buttonEl =\n",
              "        document.querySelector('#df-d0557095-6c6c-43b7-a3a0-3e71f3e1c53f button.colab-df-convert');\n",
              "      buttonEl.style.display =\n",
              "        google.colab.kernel.accessAllowed ? 'block' : 'none';\n",
              "\n",
              "      async function convertToInteractive(key) {\n",
              "        const element = document.querySelector('#df-d0557095-6c6c-43b7-a3a0-3e71f3e1c53f');\n",
              "        const dataTable =\n",
              "          await google.colab.kernel.invokeFunction('convertToInteractive',\n",
              "                                                    [key], {});\n",
              "        if (!dataTable) return;\n",
              "\n",
              "        const docLinkHtml = 'Like what you see? Visit the ' +\n",
              "          '<a target=\"_blank\" href=https://colab.research.google.com/notebooks/data_table.ipynb>data table notebook</a>'\n",
              "          + ' to learn more about interactive tables.';\n",
              "        element.innerHTML = '';\n",
              "        dataTable['output_type'] = 'display_data';\n",
              "        await google.colab.output.renderOutput(dataTable, element);\n",
              "        const docLink = document.createElement('div');\n",
              "        docLink.innerHTML = docLinkHtml;\n",
              "        element.appendChild(docLink);\n",
              "      }\n",
              "    </script>\n",
              "  </div>\n",
              "\n",
              "\n",
              "<div id=\"df-117c6b18-4872-4ffb-b45a-a8da63240b6e\">\n",
              "  <button class=\"colab-df-quickchart\" onclick=\"quickchart('df-117c6b18-4872-4ffb-b45a-a8da63240b6e')\"\n",
              "            title=\"Suggest charts\"\n",
              "            style=\"display:none;\">\n",
              "\n",
              "<svg xmlns=\"http://www.w3.org/2000/svg\" height=\"24px\"viewBox=\"0 0 24 24\"\n",
              "     width=\"24px\">\n",
              "    <g>\n",
              "        <path d=\"M19 3H5c-1.1 0-2 .9-2 2v14c0 1.1.9 2 2 2h14c1.1 0 2-.9 2-2V5c0-1.1-.9-2-2-2zM9 17H7v-7h2v7zm4 0h-2V7h2v10zm4 0h-2v-4h2v4z\"/>\n",
              "    </g>\n",
              "</svg>\n",
              "  </button>\n",
              "\n",
              "<style>\n",
              "  .colab-df-quickchart {\n",
              "      --bg-color: #E8F0FE;\n",
              "      --fill-color: #1967D2;\n",
              "      --hover-bg-color: #E2EBFA;\n",
              "      --hover-fill-color: #174EA6;\n",
              "      --disabled-fill-color: #AAA;\n",
              "      --disabled-bg-color: #DDD;\n",
              "  }\n",
              "\n",
              "  [theme=dark] .colab-df-quickchart {\n",
              "      --bg-color: #3B4455;\n",
              "      --fill-color: #D2E3FC;\n",
              "      --hover-bg-color: #434B5C;\n",
              "      --hover-fill-color: #FFFFFF;\n",
              "      --disabled-bg-color: #3B4455;\n",
              "      --disabled-fill-color: #666;\n",
              "  }\n",
              "\n",
              "  .colab-df-quickchart {\n",
              "    background-color: var(--bg-color);\n",
              "    border: none;\n",
              "    border-radius: 50%;\n",
              "    cursor: pointer;\n",
              "    display: none;\n",
              "    fill: var(--fill-color);\n",
              "    height: 32px;\n",
              "    padding: 0;\n",
              "    width: 32px;\n",
              "  }\n",
              "\n",
              "  .colab-df-quickchart:hover {\n",
              "    background-color: var(--hover-bg-color);\n",
              "    box-shadow: 0 1px 2px rgba(60, 64, 67, 0.3), 0 1px 3px 1px rgba(60, 64, 67, 0.15);\n",
              "    fill: var(--button-hover-fill-color);\n",
              "  }\n",
              "\n",
              "  .colab-df-quickchart-complete:disabled,\n",
              "  .colab-df-quickchart-complete:disabled:hover {\n",
              "    background-color: var(--disabled-bg-color);\n",
              "    fill: var(--disabled-fill-color);\n",
              "    box-shadow: none;\n",
              "  }\n",
              "\n",
              "  .colab-df-spinner {\n",
              "    border: 2px solid var(--fill-color);\n",
              "    border-color: transparent;\n",
              "    border-bottom-color: var(--fill-color);\n",
              "    animation:\n",
              "      spin 1s steps(1) infinite;\n",
              "  }\n",
              "\n",
              "  @keyframes spin {\n",
              "    0% {\n",
              "      border-color: transparent;\n",
              "      border-bottom-color: var(--fill-color);\n",
              "      border-left-color: var(--fill-color);\n",
              "    }\n",
              "    20% {\n",
              "      border-color: transparent;\n",
              "      border-left-color: var(--fill-color);\n",
              "      border-top-color: var(--fill-color);\n",
              "    }\n",
              "    30% {\n",
              "      border-color: transparent;\n",
              "      border-left-color: var(--fill-color);\n",
              "      border-top-color: var(--fill-color);\n",
              "      border-right-color: var(--fill-color);\n",
              "    }\n",
              "    40% {\n",
              "      border-color: transparent;\n",
              "      border-right-color: var(--fill-color);\n",
              "      border-top-color: var(--fill-color);\n",
              "    }\n",
              "    60% {\n",
              "      border-color: transparent;\n",
              "      border-right-color: var(--fill-color);\n",
              "    }\n",
              "    80% {\n",
              "      border-color: transparent;\n",
              "      border-right-color: var(--fill-color);\n",
              "      border-bottom-color: var(--fill-color);\n",
              "    }\n",
              "    90% {\n",
              "      border-color: transparent;\n",
              "      border-bottom-color: var(--fill-color);\n",
              "    }\n",
              "  }\n",
              "</style>\n",
              "\n",
              "  <script>\n",
              "    async function quickchart(key) {\n",
              "      const quickchartButtonEl =\n",
              "        document.querySelector('#' + key + ' button');\n",
              "      quickchartButtonEl.disabled = true;  // To prevent multiple clicks.\n",
              "      quickchartButtonEl.classList.add('colab-df-spinner');\n",
              "      try {\n",
              "        const charts = await google.colab.kernel.invokeFunction(\n",
              "            'suggestCharts', [key], {});\n",
              "      } catch (error) {\n",
              "        console.error('Error during call to suggestCharts:', error);\n",
              "      }\n",
              "      quickchartButtonEl.classList.remove('colab-df-spinner');\n",
              "      quickchartButtonEl.classList.add('colab-df-quickchart-complete');\n",
              "    }\n",
              "    (() => {\n",
              "      let quickchartButtonEl =\n",
              "        document.querySelector('#df-117c6b18-4872-4ffb-b45a-a8da63240b6e button');\n",
              "      quickchartButtonEl.style.display =\n",
              "        google.colab.kernel.accessAllowed ? 'block' : 'none';\n",
              "    })();\n",
              "  </script>\n",
              "</div>\n",
              "\n",
              "    </div>\n",
              "  </div>\n"
            ]
          },
          "metadata": {},
          "execution_count": 338
        }
      ]
    },
    {
      "cell_type": "code",
      "source": [
        "#dropping rows & columns containing missing values,inplace parameter set to True,means changes applied directly to DataFrame.\n",
        "dataset.dropna(inplace=True)"
      ],
      "metadata": {
        "id": "us_Zqz8WuyVz"
      },
      "execution_count": 339,
      "outputs": []
    },
    {
      "cell_type": "code",
      "source": [
        "#Checking count of duplicated values using sum()\n",
        "dataset.duplicated().sum()"
      ],
      "metadata": {
        "colab": {
          "base_uri": "https://localhost:8080/"
        },
        "id": "F0vQeFHUvNIs",
        "outputId": "4ad34780-5dc5-47af-8d7f-8a312cf9a183"
      },
      "execution_count": 340,
      "outputs": [
        {
          "output_type": "execute_result",
          "data": {
            "text/plain": [
              "0"
            ]
          },
          "metadata": {},
          "execution_count": 340
        }
      ]
    },
    {
      "cell_type": "code",
      "source": [
        "#Description Column of Dataset\n",
        "dataset['Description']"
      ],
      "metadata": {
        "colab": {
          "base_uri": "https://localhost:8080/"
        },
        "id": "6IU921VkvnRf",
        "outputId": "081afc06-0f8c-43ac-f901-143c3ab8de18"
      },
      "execution_count": 341,
      "outputs": [
        {
          "output_type": "execute_result",
          "data": {
            "text/plain": [
              "0                           Mild to moderate acne (spots)\n",
              "1       A RET 0.025% is a prescription medicine that i...\n",
              "2       It is used to treat acne vulgaris in people 12...\n",
              "3       It is used to treat acne vulgaris in people 12...\n",
              "4       treat the most severe form of acne (nodular ac...\n",
              "                              ...                        \n",
              "9715                              used for treating warts\n",
              "9716                        used to soften the skin cells\n",
              "9717                                       used for scars\n",
              "9718                                      used for wounds\n",
              "9719    used to treat and remove raised warts (usually...\n",
              "Name: Description, Length: 9720, dtype: object"
            ]
          },
          "metadata": {},
          "execution_count": 341
        }
      ]
    },
    {
      "cell_type": "code",
      "source": [
        "#apply() Panda apply func to each elemnt of col.lambda x:x.split() func splits each str in col into list of words.\n",
        "dataset['Reason'] = dataset['Reason'].apply(lambda x:x.split())\n",
        "dataset['Description'] = dataset['Description'].apply(lambda x:x.split())\n",
        "print(dataset.Reason)\n",
        "print(dataset.Description)"
      ],
      "metadata": {
        "colab": {
          "base_uri": "https://localhost:8080/"
        },
        "id": "Bex8caK2v6PA",
        "outputId": "df30793a-9a20-4159-8053-450140e60d34"
      },
      "execution_count": 342,
      "outputs": [
        {
          "output_type": "stream",
          "name": "stdout",
          "text": [
            "0        [Acne]\n",
            "1        [Acne]\n",
            "2        [Acne]\n",
            "3        [Acne]\n",
            "4        [Acne]\n",
            "         ...   \n",
            "9715    [Wound]\n",
            "9716    [Wound]\n",
            "9717    [Wound]\n",
            "9718    [Wound]\n",
            "9719    [Wound]\n",
            "Name: Reason, Length: 9720, dtype: object\n",
            "0                     [Mild, to, moderate, acne, (spots)]\n",
            "1       [A, RET, 0.025%, is, a, prescription, medicine...\n",
            "2       [It, is, used, to, treat, acne, vulgaris, in, ...\n",
            "3       [It, is, used, to, treat, acne, vulgaris, in, ...\n",
            "4       [treat, the, most, severe, form, of, acne, (no...\n",
            "                              ...                        \n",
            "9715                         [used, for, treating, warts]\n",
            "9716                 [used, to, soften, the, skin, cells]\n",
            "9717                                   [used, for, scars]\n",
            "9718                                  [used, for, wounds]\n",
            "9719    [used, to, treat, and, remove, raised, warts, ...\n",
            "Name: Description, Length: 9720, dtype: object\n"
          ]
        }
      ]
    },
    {
      "cell_type": "code",
      "source": [
        "#takes a string as argument and returns same string, all spaces \" \" replaced with an empty \"\" string\n",
        "dataset['Description'] = dataset['Description'].apply(lambda x:[i.replace(\" \",\"\") for i in x])"
      ],
      "metadata": {
        "id": "lLoD5KCy0KY5"
      },
      "execution_count": 343,
      "outputs": []
    },
    {
      "cell_type": "code",
      "source": [
        "#Combning Description,Reason column as single column Disease,So that main cause highlight\n",
        "dataset['Disease'] = dataset['Description'] + dataset['Reason']"
      ],
      "metadata": {
        "id": "1JocXgs42QCx"
      },
      "execution_count": 344,
      "outputs": []
    },
    {
      "cell_type": "code",
      "source": [
        "#We reduced the data into important data like index,Drug_name,Disease\n",
        "new_data = dataset[['index','Drug_Name','Disease']]\n",
        "print(new_data)"
      ],
      "metadata": {
        "colab": {
          "base_uri": "https://localhost:8080/"
        },
        "id": "4URwDd_P2jWR",
        "outputId": "6ddbd03d-866f-4c6e-acbb-2d9059796d9e"
      },
      "execution_count": 345,
      "outputs": [
        {
          "output_type": "stream",
          "name": "stdout",
          "text": [
            "      index                                          Drug_Name  \\\n",
            "0         1               A CN Gel(Topical) 20gmA CN Soap 75gm   \n",
            "1         2  A Ret 0.05% Gel 20gmA Ret 0.1% Gel 20gmA Ret 0...   \n",
            "2         3                             ACGEL CL NANO Gel 15gm   \n",
            "3         4                                ACGEL NANO Gel 15gm   \n",
            "4         5                              Acleen 1% Lotion 25ml   \n",
            "...     ...                                                ...   \n",
            "9715   9716                                T Muce Ointment 5gm   \n",
            "9716   9717  Wokadine 10% Solution 100mlWokadine Solution 5...   \n",
            "9717   9718                               Wokadine M Onit 10gm   \n",
            "9718   9719                           Wound Fix Solution 100ml   \n",
            "9719   9720                              Wounsol Ointment 15gm   \n",
            "\n",
            "                                                Disease  \n",
            "0             [Mild, to, moderate, acne, (spots), Acne]  \n",
            "1     [A, RET, 0.025%, is, a, prescription, medicine...  \n",
            "2     [It, is, used, to, treat, acne, vulgaris, in, ...  \n",
            "3     [It, is, used, to, treat, acne, vulgaris, in, ...  \n",
            "4     [treat, the, most, severe, form, of, acne, (no...  \n",
            "...                                                 ...  \n",
            "9715                [used, for, treating, warts, Wound]  \n",
            "9716        [used, to, soften, the, skin, cells, Wound]  \n",
            "9717                          [used, for, scars, Wound]  \n",
            "9718                         [used, for, wounds, Wound]  \n",
            "9719  [used, to, treat, and, remove, raised, warts, ...  \n",
            "\n",
            "[9720 rows x 3 columns]\n"
          ]
        }
      ]
    },
    {
      "cell_type": "code",
      "source": [
        "# lambda func takes list of str as argument and returns single str that is concatenation of all strings the list\n",
        "new_data['Disease'] = new_data['Disease'].apply(lambda x:\" \".join(x))\n",
        "print(new_data)"
      ],
      "metadata": {
        "colab": {
          "base_uri": "https://localhost:8080/"
        },
        "id": "kR73EYCC2p7j",
        "outputId": "2f82d41e-f676-425c-c538-983b2ea20456"
      },
      "execution_count": 346,
      "outputs": [
        {
          "output_type": "stream",
          "name": "stdout",
          "text": [
            "      index                                          Drug_Name  \\\n",
            "0         1               A CN Gel(Topical) 20gmA CN Soap 75gm   \n",
            "1         2  A Ret 0.05% Gel 20gmA Ret 0.1% Gel 20gmA Ret 0...   \n",
            "2         3                             ACGEL CL NANO Gel 15gm   \n",
            "3         4                                ACGEL NANO Gel 15gm   \n",
            "4         5                              Acleen 1% Lotion 25ml   \n",
            "...     ...                                                ...   \n",
            "9715   9716                                T Muce Ointment 5gm   \n",
            "9716   9717  Wokadine 10% Solution 100mlWokadine Solution 5...   \n",
            "9717   9718                               Wokadine M Onit 10gm   \n",
            "9718   9719                           Wound Fix Solution 100ml   \n",
            "9719   9720                              Wounsol Ointment 15gm   \n",
            "\n",
            "                                                Disease  \n",
            "0                    Mild to moderate acne (spots) Acne  \n",
            "1     A RET 0.025% is a prescription medicine that i...  \n",
            "2     It is used to treat acne vulgaris in people 12...  \n",
            "3     It is used to treat acne vulgaris in people 12...  \n",
            "4     treat the most severe form of acne (nodular ac...  \n",
            "...                                                 ...  \n",
            "9715                      used for treating warts Wound  \n",
            "9716                used to soften the skin cells Wound  \n",
            "9717                               used for scars Wound  \n",
            "9718                              used for wounds Wound  \n",
            "9719  used to treat and remove raised warts (usually...  \n",
            "\n",
            "[9720 rows x 3 columns]\n"
          ]
        },
        {
          "output_type": "stream",
          "name": "stderr",
          "text": [
            "<ipython-input-346-1dfa13e15553>:2: SettingWithCopyWarning: \n",
            "A value is trying to be set on a copy of a slice from a DataFrame.\n",
            "Try using .loc[row_indexer,col_indexer] = value instead\n",
            "\n",
            "See the caveats in the documentation: https://pandas.pydata.org/pandas-docs/stable/user_guide/indexing.html#returning-a-view-versus-a-copy\n",
            "  new_data['Disease'] = new_data['Disease'].apply(lambda x:\" \".join(x))\n"
          ]
        }
      ]
    },
    {
      "cell_type": "code",
      "source": [
        "#takes a string as its argument and returns the same string in lowercase.\n",
        "new_data['Disease'] = new_data['Disease'].apply(lambda x:x.lower())\n",
        "print(new_data)"
      ],
      "metadata": {
        "colab": {
          "base_uri": "https://localhost:8080/"
        },
        "id": "jgnwoV_p3fs8",
        "outputId": "bf6a73ed-0948-4799-997d-2356710c991a"
      },
      "execution_count": 347,
      "outputs": [
        {
          "output_type": "stream",
          "name": "stdout",
          "text": [
            "      index                                          Drug_Name  \\\n",
            "0         1               A CN Gel(Topical) 20gmA CN Soap 75gm   \n",
            "1         2  A Ret 0.05% Gel 20gmA Ret 0.1% Gel 20gmA Ret 0...   \n",
            "2         3                             ACGEL CL NANO Gel 15gm   \n",
            "3         4                                ACGEL NANO Gel 15gm   \n",
            "4         5                              Acleen 1% Lotion 25ml   \n",
            "...     ...                                                ...   \n",
            "9715   9716                                T Muce Ointment 5gm   \n",
            "9716   9717  Wokadine 10% Solution 100mlWokadine Solution 5...   \n",
            "9717   9718                               Wokadine M Onit 10gm   \n",
            "9718   9719                           Wound Fix Solution 100ml   \n",
            "9719   9720                              Wounsol Ointment 15gm   \n",
            "\n",
            "                                                Disease  \n",
            "0                    mild to moderate acne (spots) acne  \n",
            "1     a ret 0.025% is a prescription medicine that i...  \n",
            "2     it is used to treat acne vulgaris in people 12...  \n",
            "3     it is used to treat acne vulgaris in people 12...  \n",
            "4     treat the most severe form of acne (nodular ac...  \n",
            "...                                                 ...  \n",
            "9715                      used for treating warts wound  \n",
            "9716                used to soften the skin cells wound  \n",
            "9717                               used for scars wound  \n",
            "9718                              used for wounds wound  \n",
            "9719  used to treat and remove raised warts (usually...  \n",
            "\n",
            "[9720 rows x 3 columns]\n"
          ]
        },
        {
          "output_type": "stream",
          "name": "stderr",
          "text": [
            "<ipython-input-347-b1a8ffeb3f9c>:2: SettingWithCopyWarning: \n",
            "A value is trying to be set on a copy of a slice from a DataFrame.\n",
            "Try using .loc[row_indexer,col_indexer] = value instead\n",
            "\n",
            "See the caveats in the documentation: https://pandas.pydata.org/pandas-docs/stable/user_guide/indexing.html#returning-a-view-versus-a-copy\n",
            "  new_data['Disease'] = new_data['Disease'].apply(lambda x:x.lower())\n"
          ]
        }
      ]
    },
    {
      "cell_type": "code",
      "source": [
        "ps = PorterStemmer()"
      ],
      "metadata": {
        "id": "elGwqwETLF6r"
      },
      "execution_count": 348,
      "outputs": []
    },
    {
      "cell_type": "code",
      "source": [
        "\"\"\"\n",
        "CountVectorizer class used to convert text documents into vectors of counts.\n",
        "stop_words parameter specifies list of words that shuld be ignored when creating the vector.\n",
        "max_features parameter specifies max number of features tht shuld be used.\n",
        "set to english means common English words like \"the,and,is,etc\" will be ignored.\n",
        "set to 5000 means tht only 5000 most common words will be used to create the vector.\n",
        "\"\"\"\n",
        "cv = CountVectorizer(stop_words='english',max_features=5000)"
      ],
      "metadata": {
        "id": "hrRKfSKs4ci1"
      },
      "execution_count": 349,
      "outputs": []
    },
    {
      "cell_type": "code",
      "source": [
        "\"\"\"\n",
        "takes str of txt as input and returns a stemmed version of the text\n",
        "The stemming process involves removing suffix like \"ing,ly,s,etc\" to reduce words to their root form.\n",
        "useful for information retrieval and txt mining, as it help to imprve accuracy of result\n",
        "func joins the stemmed words back together into single str and returns it.\n",
        "\"\"\"\n",
        "def stem(text):\n",
        "  y = []\n",
        "\n",
        "  for i in text.split():\n",
        "    y.append(ps.stem(i))\n",
        "\n",
        "  return \" \".join(y)"
      ],
      "metadata": {
        "id": "Lb4OxSyJB_IV"
      },
      "execution_count": 350,
      "outputs": []
    },
    {
      "cell_type": "code",
      "source": [
        "#Now we applied stem to each element of Disease\n",
        "new_data['Disease'] = new_data['Disease'].apply(stem)"
      ],
      "metadata": {
        "colab": {
          "base_uri": "https://localhost:8080/"
        },
        "id": "yL8vrczdB3VZ",
        "outputId": "3fa2ed5a-b341-4da1-c1c6-d627a3a4af8f"
      },
      "execution_count": 351,
      "outputs": [
        {
          "output_type": "stream",
          "name": "stderr",
          "text": [
            "<ipython-input-351-8bd5caef4e8d>:2: SettingWithCopyWarning: \n",
            "A value is trying to be set on a copy of a slice from a DataFrame.\n",
            "Try using .loc[row_indexer,col_indexer] = value instead\n",
            "\n",
            "See the caveats in the documentation: https://pandas.pydata.org/pandas-docs/stable/user_guide/indexing.html#returning-a-view-versus-a-copy\n",
            "  new_data['Disease'] = new_data['Disease'].apply(stem)\n"
          ]
        }
      ]
    },
    {
      "cell_type": "code",
      "source": [
        "#no of rows is the no of documents in the data set and the no of columns is the no of features in the vector representation.\n",
        "vectors = cv.fit_transform(new_data['Disease']).toarray()\n",
        "print(vectors.shape)"
      ],
      "metadata": {
        "colab": {
          "base_uri": "https://localhost:8080/"
        },
        "id": "gjGm5I_dBJ6B",
        "outputId": "76eb6f77-6d74-4f58-8983-0469dc026857"
      },
      "execution_count": 352,
      "outputs": [
        {
          "output_type": "stream",
          "name": "stdout",
          "text": [
            "(9720, 806)\n"
          ]
        }
      ]
    },
    {
      "cell_type": "code",
      "source": [
        "#list of features that used to create vector representation,list of 5000 most common word\n",
        "cv.get_feature_names_out()"
      ],
      "metadata": {
        "colab": {
          "base_uri": "https://localhost:8080/"
        },
        "id": "agPXlNdeBB0V",
        "outputId": "20eb831e-ef92-49da-e851-795110f1a479"
      },
      "execution_count": 353,
      "outputs": [
        {
          "output_type": "execute_result",
          "data": {
            "text/plain": [
              "array(['025', '12', '16', '18', 'abdomin', 'abl', 'ach', 'acid', 'acn',\n",
              "       'acne', 'acquir', 'action', 'activ', 'acut', 'acute', 'adequ',\n",
              "       'adhd', 'adjunct', 'adolesc', 'adult', 'adults', 'affect', 'ag',\n",
              "       'age', 'aids', 'allerg', 'allergen', 'allergi', 'allow', 'alon',\n",
              "       'alzheim', 'alzheimer', 'alzheimerâ', 'amoebiasi', 'anaemia',\n",
              "       'anal', 'angina', 'angl', 'ani', 'ankylos', 'anorexia', 'anoth',\n",
              "       'anti', 'antioxid', 'antipsychot', 'antiretrovir', 'anxieti',\n",
              "       'anxiou', 'anxious', 'apnoea', 'appear', 'appetit', 'appetite',\n",
              "       'appli', 'appropri', 'area', 'arrhythmia', 'arrhythmiasi',\n",
              "       'arteri', 'arthralgia', 'arthriti', 'associ', 'atherothrombot',\n",
              "       'athleteâ', 'atop', 'atrial', 'attack', 'awak', 'b1', 'b2', 'b3',\n",
              "       'b5', 'b6', 'babi', 'backache', 'bacteri', 'bacteria', 'balanc',\n",
              "       'balanitis', 'bandag', 'becom', 'behaviour', 'beliefs', 'benefit',\n",
              "       'beta', 'biliari', 'biotin', 'bite', 'blackhead', 'blackheads',\n",
              "       'bleaches', 'bleed', 'bloating', 'block', 'blood', 'bodi', 'bodyâ',\n",
              "       'bon', 'bone', 'bones', 'bowel', 'brain', 'breakdown', 'breath',\n",
              "       'brighten', 'bronchiti', 'brown', 'bursitis', 'calcium', 'calm',\n",
              "       'cancer', 'candid', 'candidiasis', 'canâ', 'carbohydr',\n",
              "       'cardiovascular', 'care', 'carrier', 'cartilag', 'case', 'cases',\n",
              "       'cataract', 'caus', 'cavity', 'cell', 'certain', 'chanc', 'chang',\n",
              "       'characteris', 'chemic', 'chemotherapi', 'chest', 'chickenpox',\n",
              "       'childhood', 'children', 'chlosma', 'cholesterol', 'chronic',\n",
              "       'clean', 'cleaner', 'cleanser', 'clear', 'clot', 'cmv', 'cold',\n",
              "       'colds', 'colic', 'colon', 'colorect', 'coma', 'combin', 'common',\n",
              "       'complet', 'complexion', 'concomit', 'condit', 'conditions',\n",
              "       'confused', 'confusion', 'congestion', 'conjunct', 'consciousness',\n",
              "       'consid', 'consist', 'constip', 'constipation', 'constipationâ',\n",
              "       'continu', 'contracept', 'control', 'contusion', 'convent',\n",
              "       'convulsion', 'corpori', 'corticosteroid', 'cough', 'cramp',\n",
              "       'cream', 'cruri', 'cushion', 'cycl', 'cytomegaloviru',\n",
              "       'cytoprotect', 'd3', 'daili', 'damag', 'dandruff', 'dark', 'death',\n",
              "       'decreas', 'defici', 'degrad', 'degre', 'delay', 'demand',\n",
              "       'dementia', 'dental', 'deposit', 'depress', 'depressed', 'dermat',\n",
              "       'deterg', 'diabet', 'diagnost', 'diarrhea', 'diarrhoea', 'diet',\n",
              "       'differ', 'difficult', 'difficulti', 'digest', 'digestion',\n",
              "       'dilate', 'discolor', 'discoloured', 'diseas', 'disord',\n",
              "       'disorder', 'disorders', 'displac', 'distens', 'dizzi', 'doctor',\n",
              "       'doe', 'drain', 'drained', 'dri', 'drop', 'drowsi', 'drugs',\n",
              "       'dull', 'dure', 'dysmenorrhea', 'ear', 'ears', 'eczema', 'effect',\n",
              "       'effects', 'elbow', 'element', 'emot', 'encephalopathi',\n",
              "       'endometriosi', 'energi', 'energy', 'enhanc', 'enlarg', 'enzym',\n",
              "       'enzyme', 'epicondylitis', 'episod', 'especi', 'essenti', 'event',\n",
              "       'excess', 'exercis', 'exfoli', 'exocrin', 'extern', 'extra', 'eye',\n",
              "       'eyes', 'face', 'fade', 'fail', 'failur', 'failure', 'fast', 'fat',\n",
              "       'fatigue', 'fats', 'fatti', 'febril', 'feed', 'feel', 'feet',\n",
              "       'fever', 'feverish', 'fibril', 'fine', 'fissur', 'flat', 'flatul',\n",
              "       'flatulence', 'flexibl', 'flow', 'flu', 'fluid', 'flutter',\n",
              "       'focus', 'folic', 'follow', 'food', 'foot', 'form', 'format',\n",
              "       'free', 'fresh', 'friction', 'function', 'fungal', 'fungi',\n",
              "       'fungu', 'gain', 'gener', 'genit', 'gland', 'glaucoma', 'glow',\n",
              "       'gonorrhoea', 'good', 'gout', 'gradual', 'gravi', 'growth',\n",
              "       'guilty', 'gum', 'ha', 'haematopoiesi', 'haemorrhoid',\n",
              "       'haemorrhoidectomi', 'haemorrhoids', 'hair', 'hallucinations',\n",
              "       'hands', 'hard', 'hay', 'head', 'headach', 'headache', 'heal',\n",
              "       'health', 'healthy', 'hear', 'hearing', 'heart', 'heartbeat',\n",
              "       'help', 'hepat', 'herp', 'high', 'hiv', 'hives', 'hormon',\n",
              "       'hospit', 'human', 'hygien', 'hypercalcaemia', 'hyperparathyroid',\n",
              "       'hyperpigment', 'hyperpigmentation', 'hypertens', 'hypertension',\n",
              "       'hyperthyroid', 'hypertrophi', 'hypnosi', 'hypotens',\n",
              "       'hypothyroid', 'hypothyroidism', 'hyroid', 'ibs', 'immun',\n",
              "       'immunodefici', 'improv', 'improvesâ', 'includ', 'incoher',\n",
              "       'incomplet', 'increas', 'indic', 'indigest', 'induc', 'infect',\n",
              "       'infection', 'infections', 'infest', 'inflamm', 'inflammationâ',\n",
              "       'inflammatori', 'influenza', 'infrequ', 'inguinalis', 'inhal',\n",
              "       'inhibitor', 'injuri', 'inner', 'insect', 'insid', 'insomnia',\n",
              "       'insufficiencyâ', 'integr', 'intens', 'interdigit', 'intern',\n",
              "       'interrupt', 'intestin', 'intestinal', 'intoler', 'invas',\n",
              "       'involuntari', 'iodine', 'iritis', 'iron', 'irrit', 'isâ', 'itch',\n",
              "       'itâ', 'jewelleri', 'jock', 'joint', 'kidney', 'kit', 'knees',\n",
              "       'known', 'lack', 'lactat', 'lead', 'learning', 'left', 'level',\n",
              "       'lice', 'life', 'ligaments', 'line', 'lip', 'liquid', 'liv',\n",
              "       'live', 'liver', 'long', 'look', 'lose', 'loss', 'lotion', 'lower',\n",
              "       'lowersâ', 'lowerâ', 'lung', 'lvh', 'mainli', 'maintain', 'major',\n",
              "       'make', 'malari', 'malaria', 'malignancies', 'manag', 'manganese',\n",
              "       'mani', 'manuum', 'marrow', 'medic', 'medicin', 'melanin',\n",
              "       'melasma', 'mellitu', 'memori', 'men', 'mening', 'menopaus',\n",
              "       'mental', 'metabol', 'methyl', 'micronutri', 'migrain', 'migraine',\n",
              "       'mild', 'milk', 'miner', 'minor', 'mistaken', 'mobil', 'moder',\n",
              "       'moderate', 'moistur', 'molybdenum', 'motion', 'movement',\n",
              "       'movements', 'muscl', 'muscular', 'musculoskelet', 'myalgia',\n",
              "       'myasthenia', 'mydriasi', 'myeloid', 'narrow', 'nasal', 'natur',\n",
              "       'nausea', 'need', 'nephropathy', 'nerv', 'nervosa', 'nervousness',\n",
              "       'nettl', 'neuralgia', 'neutral', 'newborns', 'nodular', 'non',\n",
              "       'normal', 'nose', 'nutrient', 'nutrit', 'occur', 'ocular', 'ofâ',\n",
              "       'oili', 'older', 'onli', 'op', 'open', 'oper', 'oral', 'origin',\n",
              "       'osteoarthr', 'osteodystrophy', 'osteoporosi', 'oxid', 'oxidation',\n",
              "       'pah', 'pain', 'pancrea', 'paralys', 'parathyroid', 'parkinson',\n",
              "       'parkinsonâ', 'passag', 'patch', 'patches', 'patient', 'patientsâ',\n",
              "       'pectori', 'pectoris', 'pedis', 'pelvic', 'penil', 'peopl',\n",
              "       'peptid', 'period', 'physic', 'piles', 'pimpl', 'pimple',\n",
              "       'pityriasi', 'polysaccharid', 'portal', 'post', 'potent', 'power',\n",
              "       'pre', 'prednisolon', 'pregnanc', 'prematur', 'preoper',\n",
              "       'prescrib', 'prescript', 'present', 'pressur', 'prevent', 'prexia',\n",
              "       'primari', 'prinzmet', 'problem', 'procedur', 'process',\n",
              "       'proctiti', 'produc', 'product', 'progress', 'prolactin', 'promot',\n",
              "       'properti', 'protect', 'provid', 'pseudo', 'psychosi',\n",
              "       'psychosomat', 'pulmonari', 'pupil', 'pyrexia', 'rabi', 'radicals',\n",
              "       'radiculitis', 'rais', 'rarer', 'rash', 'react', 'reaction',\n",
              "       'receiv', 'recommend', 'red', 'reduc', 'reduct', 'refer',\n",
              "       'regener', 'regimen', 'relat', 'releief', 'relief', 'reliev',\n",
              "       'reliv', 'remov', 'renal', 'repair', 'replac', 'reproduct',\n",
              "       'resist', 'respiratori', 'respond', 'respons', 'restor', 'ret',\n",
              "       'retin', 'rheumat', 'ring', 'ringworm', 'root', 'rosacea', 'scabi',\n",
              "       'scali', 'scalp', 'scar', 'schizophren', 'schizophrenia',\n",
              "       'seborrh', 'sed', 'sedat', 'sens', 'sever', 'shingl', 'short',\n",
              "       'sick', 'sickness', 'silki', 'simpl', 'simplex', 'sinusitis',\n",
              "       'skelet', 'skin', 'skinâ', 'sleep', 'slow', 'small', 'smoke',\n",
              "       'smooth', 'soaps', 'soar', 'soft', 'soften', 'soothen', 'sore',\n",
              "       'sores', 'spasmod', 'speech', 'speed', 'spondyl', 'spot', 'spots',\n",
              "       'sprain', 'spread', 'stabil', 'starch', 'start', 'state',\n",
              "       'steroids', 'stiff', 'stomach', 'stools', 'stop', 'strains',\n",
              "       'strengthen', 'stroke', 'structur', 'substanc', 'suffer', 'sugar',\n",
              "       'sunburn', 'sunscreen', 'suppl', 'supplement', 'support',\n",
              "       'surgeri', 'surgeryâ', 'surgic', 'suspiciousness', 'sweat',\n",
              "       'swell', 'swelling', 'swollen', 'symptom', 'symptomat', 'symptoms',\n",
              "       'syndrom', 'synovi', 'synovitis', 'synthesi', 'synthet',\n",
              "       'syphilis', 'tablet', 'tachycardia', 'task', 'temperature',\n",
              "       'tender', 'tendonitis', 'tens', 'term', 'textur', 'therapi',\n",
              "       'therebi', 'thi', 'thing', 'throat', 'thrombolysi', 'thrush',\n",
              "       'thu', 'thyroid', 'thyroxin', 'time', 'tinea', 'tinnitus', 'tissu',\n",
              "       'tissues', 'toe', 'tone', 'tonsil', 'tonsilitis', 'tonsillectomi',\n",
              "       'toothach', 'toothache', 'topic', 'trace', 'tract', 'transmit',\n",
              "       'transplant', 'trauma', 'traumat', 'travel', 'treat', 'treatment',\n",
              "       'treatsâ', 'treatâ', 'tremor', 'triglycerid', 'tubercular', 'type',\n",
              "       'ulcer', 'unabl', 'unbalanc', 'uncompl', 'uneven', 'unstabl',\n",
              "       'unusu', 'unwant', 'upper', 'uptak', 'urate', 'uretericâ', 'uric',\n",
              "       'urinaryâ', 'use', 'uses', 'usual', 'uveiti', 'vaccin', 'vagin',\n",
              "       'variant', 'varieti', 'ventricular', 'verruca', 'versicolor',\n",
              "       'vertigo', 'vessel', 'viral', 'viru', 'virus', 'vitamin',\n",
              "       'vitamins', 'volume', 'vomit', 'vulgari', 'vulgarisâ', 'wall',\n",
              "       'wart', 'wash', 'weak', 'weaken', 'weight', 'wet', 'whichâ',\n",
              "       'whilst', 'white', 'widen', 'withdrawn', 'womb', 'women', 'work',\n",
              "       'worsen', 'wound', 'wrinkl', 'wrinkles', 'year', 'younger', 'zinc',\n",
              "       'œpancreat'], dtype=object)"
            ]
          },
          "metadata": {},
          "execution_count": 353
        }
      ]
    },
    {
      "cell_type": "code",
      "source": [
        "#Check cosine value of two argumnt vector,used to measure the similarity between text documents.\n",
        "cs(vectors)"
      ],
      "metadata": {
        "colab": {
          "base_uri": "https://localhost:8080/"
        },
        "id": "qdzMhcngAekA",
        "outputId": "530da2e7-401c-4e22-eaa6-86888f8c7286"
      },
      "execution_count": 354,
      "outputs": [
        {
          "output_type": "execute_result",
          "data": {
            "text/plain": [
              "array([[1.        , 0.25197632, 0.43643578, ..., 0.        , 0.        ,\n",
              "        0.        ],\n",
              "       [0.25197632, 1.        , 0.25660012, ..., 0.19245009, 0.1490712 ,\n",
              "        0.0860663 ],\n",
              "       [0.43643578, 0.25660012, 1.        , ..., 0.11111111, 0.0860663 ,\n",
              "        0.0993808 ],\n",
              "       ...,\n",
              "       [0.        , 0.19245009, 0.11111111, ..., 1.        , 0.77459667,\n",
              "        0.2981424 ],\n",
              "       [0.        , 0.1490712 , 0.0860663 , ..., 0.77459667, 1.        ,\n",
              "        0.34641016],\n",
              "       [0.        , 0.0860663 , 0.0993808 , ..., 0.2981424 , 0.34641016,\n",
              "        1.        ]])"
            ]
          },
          "metadata": {},
          "execution_count": 354
        }
      ]
    },
    {
      "cell_type": "code",
      "source": [
        "\"\"\"\n",
        "Similar var is a NumPy array contain cosine similarity b/w each pair of vectors in vectors array.\n",
        "The cosine similarity b/w two vectors is b/w 0 & 1,0 means vectors are completely diffrnt & 1 means vectors r exactly same.\n",
        "\"\"\"\n",
        "similar = cs(vectors)\n",
        "print(similar[1])"
      ],
      "metadata": {
        "colab": {
          "base_uri": "https://localhost:8080/"
        },
        "id": "9SWGQU1kAbwl",
        "outputId": "f65b43b0-b599-4e2f-e0be-956803415a65"
      },
      "execution_count": 355,
      "outputs": [
        {
          "output_type": "stream",
          "name": "stdout",
          "text": [
            "[0.25197632 1.         0.25660012 ... 0.19245009 0.1490712  0.0860663 ]\n"
          ]
        }
      ]
    },
    {
      "cell_type": "code",
      "source": [
        "\"\"\"\n",
        "recommend() function takes medicine parameter & return list of similar medicines.\n",
        "func first finds row index of medicine in new_data using isin() method then,\n",
        "use index attribute of resulting data frame to get row index of the first row.\n",
        "func then use distance arry to get distances between medicine & other medicines in data frame.\n",
        "func then sorts distance in descending order & selects first five medicine,then prints names of five medicines.\n",
        "\"\"\"\n",
        "def recommend(medicine):\n",
        "    medicine_index = new_data[new_data['Drug_Name'] == medicine].index[0]\n",
        "    distances = similar[medicine_index]\n",
        "    medicines_list = sorted(list(enumerate(distances)),reverse=True,key=lambda x:x[1])[1:6]\n",
        "\n",
        "    for i in medicines_list:\n",
        "        print(new_data.iloc[i[0]].Drug_Name)"
      ],
      "metadata": {
        "id": "VJ5HXlWzASuy"
      },
      "execution_count": 359,
      "outputs": []
    },
    {
      "cell_type": "code",
      "source": [
        "recommend(\"Danil Antidandruff Shampoo 100ml\")"
      ],
      "metadata": {
        "colab": {
          "base_uri": "https://localhost:8080/"
        },
        "id": "vmGNjWLRANIT",
        "outputId": "5aa62c2e-ed54-4e60-eabe-330ad2e133d6"
      },
      "execution_count": 361,
      "outputs": [
        {
          "output_type": "stream",
          "name": "stdout",
          "text": [
            "Angiografin 65% Infusion 50ml\n",
            "Blise Face Wash Gel 100gm\n",
            "Chupp LS Syrup 100ml\n",
            "Cutirinz Foaming Face Wash 100ml\n",
            "Danil Antidandruff Shampoo 100ml\n"
          ]
        }
      ]
    }
  ]
}